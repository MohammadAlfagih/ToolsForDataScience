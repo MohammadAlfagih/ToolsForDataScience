{
 "cells": [
  {
   "cell_type": "markdown",
   "id": "735ba64f",
   "metadata": {},
   "source": [
    "# Data Science Tools and Ecosystem"
   ]
  },
  {
   "cell_type": "markdown",
   "id": "e1af9663",
   "metadata": {},
   "source": [
    "#### In this notebook, Data Science Tools and Ecosystem are summarized"
   ]
  },
  {
   "cell_type": "markdown",
   "id": "af7d1f55",
   "metadata": {},
   "source": [
    "**Objectives**\n",
    "* to know what is the most important Languages for Data Scientits\n",
    "* to know what is the most common Libraries used by Data Scientits\n",
    "* to explore Different Data Science Environment\n"
   ]
  },
  {
   "cell_type": "markdown",
   "id": "3915b735",
   "metadata": {},
   "source": [
    "Some of The populer and Most used languages thas Data Scientists use are:\n",
    "1. Python\n",
    "2. R\n",
    "3. SQL\n",
    "4. C++\n",
    "5. Java"
   ]
  },
  {
   "cell_type": "markdown",
   "id": "ceee0274",
   "metadata": {},
   "source": [
    "Some of the commanly used libraries used by Data Scientists include:\n",
    "1. Pandas\n",
    "2. numpy\n",
    "3. Matplotlib\n",
    "4. ggplot"
   ]
  },
  {
   "cell_type": "markdown",
   "id": "1703a6f5",
   "metadata": {},
   "source": [
    "| Data Science Tools |\n",
    "| -----|\n",
    "|VScode |\n",
    "|JupyterLite |\n",
    "|JupyterNoteBook |\n",
    "|AnaConda |\n"
   ]
  },
  {
   "cell_type": "markdown",
   "id": "0e6a4c96",
   "metadata": {},
   "source": [
    "###  Below are a few examples of evaluating arithmetic expressions in Python\n",
    "\n"
   ]
  },
  {
   "cell_type": "code",
   "execution_count": 1,
   "id": "f3a61fc3",
   "metadata": {},
   "outputs": [
    {
     "data": {
      "text/plain": [
       "17"
      ]
     },
     "execution_count": 1,
     "metadata": {},
     "output_type": "execute_result"
    }
   ],
   "source": [
    "#This a simple arithmetic expression to multiply then add Integers\n",
    "(3*4)+5"
   ]
  },
  {
   "cell_type": "code",
   "execution_count": 2,
   "id": "8abe103e",
   "metadata": {},
   "outputs": [
    {
     "data": {
      "text/plain": [
       "3.3333333333333335"
      ]
     },
     "execution_count": 2,
     "metadata": {},
     "output_type": "execute_result"
    }
   ],
   "source": [
    "# This will convert 200 minutes to hours by dividing by 60\n",
    "200 /60"
   ]
  },
  {
   "cell_type": "markdown",
   "id": "e7ca1344",
   "metadata": {},
   "source": [
    "## Author:\n",
    "Mohammed Abdulrazaq Alfagih\n"
   ]
  }
 ],
 "metadata": {
  "kernelspec": {
   "display_name": "venv",
   "language": "python",
   "name": "python3"
  },
  "language_info": {
   "codemirror_mode": {
    "name": "ipython",
    "version": 3
   },
   "file_extension": ".py",
   "mimetype": "text/x-python",
   "name": "python",
   "nbconvert_exporter": "python",
   "pygments_lexer": "ipython3",
   "version": "3.12.10"
  }
 },
 "nbformat": 4,
 "nbformat_minor": 5
}
